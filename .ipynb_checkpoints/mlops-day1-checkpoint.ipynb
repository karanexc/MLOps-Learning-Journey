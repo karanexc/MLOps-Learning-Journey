{
 "cells": [
  {
   "cell_type": "code",
   "execution_count": 2,
   "id": "60e033a8-bf4f-4032-b1c3-a4af5b54b96b",
   "metadata": {},
   "outputs": [
    {
     "ename": "SyntaxError",
     "evalue": "incomplete input (320657694.py, line 8)",
     "output_type": "error",
     "traceback": [
      "\u001b[1;36m  Cell \u001b[1;32mIn[2], line 8\u001b[1;36m\u001b[0m\n\u001b[1;33m    new_markdown_cell(\"\"\"## 📘 What is MLOps?\u001b[0m\n\u001b[1;37m                      ^\u001b[0m\n\u001b[1;31mSyntaxError\u001b[0m\u001b[1;31m:\u001b[0m incomplete input\n"
     ]
    }
   ],
   "source": []
  },
  {
   "cell_type": "code",
   "execution_count": 1,
   "id": "c0ca2625-792a-46c6-b251-519557c92553",
   "metadata": {},
   "outputs": [
    {
     "ename": "NameError",
     "evalue": "name 'today' is not defined",
     "output_type": "error",
     "traceback": [
      "\u001b[1;31m---------------------------------------------------------------------------\u001b[0m",
      "\u001b[1;31mNameError\u001b[0m                                 Traceback (most recent call last)",
      "Cell \u001b[1;32mIn[1], line 5\u001b[0m\n\u001b[0;32m      1\u001b[0m \u001b[38;5;28;01mfrom\u001b[39;00m \u001b[38;5;21;01mnbformat\u001b[39;00m\u001b[38;5;21;01m.\u001b[39;00m\u001b[38;5;21;01mv4\u001b[39;00m \u001b[38;5;28;01mimport\u001b[39;00m new_notebook, new_markdown_cell\n\u001b[0;32m      3\u001b[0m \u001b[38;5;66;03m# Create a new notebook with the detailed content\u001b[39;00m\n\u001b[0;32m      4\u001b[0m detailed_nb \u001b[38;5;241m=\u001b[39m new_notebook(cells\u001b[38;5;241m=\u001b[39m[\n\u001b[1;32m----> 5\u001b[0m     new_markdown_cell(\u001b[38;5;124mf\u001b[39m\u001b[38;5;124m\"\u001b[39m\u001b[38;5;124m# 📅 \u001b[39m\u001b[38;5;132;01m{\u001b[39;00mtoday\u001b[38;5;132;01m}\u001b[39;00m\u001b[38;5;124m – Day 1: Introduction to MLOps\u001b[39m\u001b[38;5;124m\"\u001b[39m),\n\u001b[0;32m      6\u001b[0m     new_markdown_cell(\u001b[38;5;124m\"\u001b[39m\u001b[38;5;124m## 🧠 Focus Area:\u001b[39m\u001b[38;5;130;01m\\n\u001b[39;00m\u001b[38;5;124mUnderstanding the fundamentals of MLOps (Machine Learning Operations), why it matters, and how it integrates into the ML lifecycle.\u001b[39m\u001b[38;5;124m\"\u001b[39m),\n\u001b[0;32m      7\u001b[0m     new_markdown_cell(\u001b[38;5;124m\"\u001b[39m\u001b[38;5;124m## 📺 Resource:\u001b[39m\u001b[38;5;130;01m\\n\u001b[39;00m\u001b[38;5;124m🎥 [YouTube: Day 1 – Introduction to MLOps](https://www.youtube.com/watch?v=eRyQDkCrZrk&list=PLkz_y24mlSJbtHxCveCT9NkgYdEhc42il)\u001b[39m\u001b[38;5;124m\"\u001b[39m),\n\u001b[0;32m      8\u001b[0m     new_markdown_cell(\u001b[38;5;124m\"\"\"\u001b[39m\u001b[38;5;124m## 📘 What is MLOps?\u001b[39m\n\u001b[0;32m      9\u001b[0m \n\u001b[0;32m     10\u001b[0m \u001b[38;5;124mMLOps = Machine Learning + DevOps  \u001b[39m\n\u001b[0;32m     11\u001b[0m \u001b[38;5;124mIt streamlines the **entire lifecycle** of ML models: from development to deployment and monitoring in production.  \u001b[39m\n\u001b[0;32m     12\u001b[0m \n\u001b[0;32m     13\u001b[0m \u001b[38;5;124m🔑 Key Benefits:\u001b[39m\n\u001b[0;32m     14\u001b[0m \u001b[38;5;124m- Scalability\u001b[39m\n\u001b[0;32m     15\u001b[0m \u001b[38;5;124m- Reproducibility\u001b[39m\n\u001b[0;32m     16\u001b[0m \u001b[38;5;124m- Continuous integration & deployment\u001b[39m\n\u001b[0;32m     17\u001b[0m \u001b[38;5;124m- Collaboration between ML & engineering teams\u001b[39m\n\u001b[0;32m     18\u001b[0m \u001b[38;5;124m\"\"\"\u001b[39m),\n\u001b[0;32m     19\u001b[0m     new_markdown_cell(\u001b[38;5;124m\"\"\"\u001b[39m\u001b[38;5;124m## 🔄 Traditional ML vs MLOps\u001b[39m\n\u001b[0;32m     20\u001b[0m \n\u001b[0;32m     21\u001b[0m \u001b[38;5;124m| Feature           | Traditional ML      | MLOps                     |\u001b[39m\n\u001b[0;32m     22\u001b[0m \u001b[38;5;124m|------------------|---------------------|----------------------------|\u001b[39m\n\u001b[0;32m     23\u001b[0m \u001b[38;5;124m| Focus            | Just building models| Full ML lifecycle          |\u001b[39m\n\u001b[0;32m     24\u001b[0m \u001b[38;5;124m| Reproducibility  | Manual              | Automated & versioned      |\u001b[39m\n\u001b[0;32m     25\u001b[0m \u001b[38;5;124m| Version Control  | Only code           | Code + data + models       |\u001b[39m\n\u001b[0;32m     26\u001b[0m \u001b[38;5;124m| Deployment       | Ad hoc              | Continuous (CI/CD/CT)      |\u001b[39m\n\u001b[0;32m     27\u001b[0m \u001b[38;5;124m| Monitoring       | Often missing       | Built-in (Prometheus etc.)|\u001b[39m\n\u001b[0;32m     28\u001b[0m \u001b[38;5;124m\"\"\"\u001b[39m),\n\u001b[0;32m     29\u001b[0m     new_markdown_cell(\u001b[38;5;124m\"\"\"\u001b[39m\u001b[38;5;124m## 🔁 ML Lifecycle Steps\u001b[39m\n\u001b[0;32m     30\u001b[0m \n\u001b[0;32m     31\u001b[0m \u001b[38;5;124m1. Data Collection  \u001b[39m\n\u001b[0;32m     32\u001b[0m \u001b[38;5;124m2. Data Preprocessing  \u001b[39m\n\u001b[0;32m     33\u001b[0m \u001b[38;5;124m3. Model Training  \u001b[39m\n\u001b[0;32m     34\u001b[0m \u001b[38;5;124m4. Evaluation  \u001b[39m\n\u001b[0;32m     35\u001b[0m \u001b[38;5;124m5. Deployment (Batch/API)  \u001b[39m\n\u001b[0;32m     36\u001b[0m \u001b[38;5;124m6. Monitoring (performance, drift)  \u001b[39m\n\u001b[0;32m     37\u001b[0m \u001b[38;5;124m7. Retraining\u001b[39m\n\u001b[0;32m     38\u001b[0m \n\u001b[0;32m     39\u001b[0m \u001b[38;5;124mMLOps automates and tracks each of these.\u001b[39m\n\u001b[0;32m     40\u001b[0m \u001b[38;5;124m\"\"\"\u001b[39m),\n\u001b[0;32m     41\u001b[0m     new_markdown_cell(\u001b[38;5;124m\"\"\"\u001b[39m\u001b[38;5;124m## 🧰 Tools Introduced\u001b[39m\n\u001b[0;32m     42\u001b[0m \n\u001b[0;32m     43\u001b[0m \u001b[38;5;124m- **Git & GitHub**: Code versioning  \u001b[39m\n\u001b[0;32m     44\u001b[0m \u001b[38;5;124m- **DVC**: Data & model versioning  \u001b[39m\n\u001b[0;32m     45\u001b[0m \u001b[38;5;124m- **MLflow**: Experiment tracking  \u001b[39m\n\u001b[0;32m     46\u001b[0m \u001b[38;5;124m- **Docker**: Environment packaging  \u001b[39m\n\u001b[0;32m     47\u001b[0m \u001b[38;5;124m- **Kubernetes**: Scaling deployments  \u001b[39m\n\u001b[0;32m     48\u001b[0m \u001b[38;5;124m- **Prometheus + Grafana**: Monitoring  \u001b[39m\n\u001b[0;32m     49\u001b[0m \u001b[38;5;124m- **CI/CD**: GitHub Actions, Jenkins\u001b[39m\n\u001b[0;32m     50\u001b[0m \u001b[38;5;124m\"\"\"\u001b[39m),\n\u001b[0;32m     51\u001b[0m     new_markdown_cell(\u001b[38;5;124m\"\"\"\u001b[39m\u001b[38;5;124m## 🚀 Why MLOps Matters\u001b[39m\n\u001b[0;32m     52\u001b[0m \n\u001b[0;32m     53\u001b[0m \u001b[38;5;124m- Keeps ML projects **organized and scalable**  \u001b[39m\n\u001b[0;32m     54\u001b[0m \u001b[38;5;124m- Helps prevent **model drift and deployment issues**  \u001b[39m\n\u001b[0;32m     55\u001b[0m \u001b[38;5;124m- Promotes **collaboration and automation**\u001b[39m\n\u001b[0;32m     56\u001b[0m \n\u001b[0;32m     57\u001b[0m \u001b[38;5;124m> “MLOps isn’t optional anymore — it’s the foundation of real-world ML.”\u001b[39m\n\u001b[0;32m     58\u001b[0m \u001b[38;5;124m\"\"\"\u001b[39m),\n\u001b[0;32m     59\u001b[0m     new_markdown_cell(\u001b[38;5;124m\"\"\"\u001b[39m\u001b[38;5;124m## ✅ Next Steps\u001b[39m\n\u001b[0;32m     60\u001b[0m \n\u001b[0;32m     61\u001b[0m \u001b[38;5;124m- Set up DVC  \u001b[39m\n\u001b[0;32m     62\u001b[0m \u001b[38;5;124m- Track dataset and model changes  \u001b[39m\n\u001b[0;32m     63\u001b[0m \u001b[38;5;124m- Start Day 2 notebook\u001b[39m\n\u001b[0;32m     64\u001b[0m \u001b[38;5;124m\"\"\"\u001b[39m),\n\u001b[0;32m     65\u001b[0m     new_markdown_cell(\u001b[38;5;124m\"\"\"\u001b[39m\u001b[38;5;124m## 💬 Personal Reflection\u001b[39m\n\u001b[0;32m     66\u001b[0m \n\u001b[0;32m     67\u001b[0m \u001b[38;5;124mUnderstanding MLOps as more than just deployment helped me realize the importance of system-level thinking in ML. I’m excited to go hands-on with DVC and experiment tracking tomorrow.\u001b[39m\n\u001b[0;32m     68\u001b[0m \u001b[38;5;124m\"\"\"\u001b[39m)\n\u001b[0;32m     69\u001b[0m ])\n\u001b[0;32m     71\u001b[0m \u001b[38;5;66;03m# Save the notebook\u001b[39;00m\n\u001b[0;32m     72\u001b[0m detailed_nb_path \u001b[38;5;241m=\u001b[39m \u001b[38;5;124m\"\u001b[39m\u001b[38;5;124m/mnt/data/MLOps_Day1_Intro_Detailed.ipynb\u001b[39m\u001b[38;5;124m\"\u001b[39m\n",
      "\u001b[1;31mNameError\u001b[0m: name 'today' is not defined"
     ]
    }
   ],
   "source": [
    "from nbformat.v4 import new_notebook, new_markdown_cell\n",
    "\n",
    "# Create a new notebook with the detailed content\n",
    "detailed_nb = new_notebook(cells=[\n",
    "    new_markdown_cell(f\"# 📅 {today} – Day 1: Introduction to MLOps\"),\n",
    "    new_markdown_cell(\"## 🧠 Focus Area:\\nUnderstanding the fundamentals of MLOps (Machine Learning Operations), why it matters, and how it integrates into the ML lifecycle.\"),\n",
    "    new_markdown_cell(\"## 📺 Resource:\\n🎥 [YouTube: Day 1 – Introduction to MLOps](https://www.youtube.com/watch?v=eRyQDkCrZrk&list=PLkz_y24mlSJbtHxCveCT9NkgYdEhc42il)\"),\n",
    "    new_markdown_cell(\"\"\"## 📘 What is MLOps?\n",
    "\n",
    "MLOps = Machine Learning + DevOps  \n",
    "It streamlines the **entire lifecycle** of ML models: from development to deployment and monitoring in production.  \n",
    "\n",
    "🔑 Key Benefits:\n",
    "- Scalability\n",
    "- Reproducibility\n",
    "- Continuous integration & deployment\n",
    "- Collaboration between ML & engineering teams\n",
    "\"\"\"),\n",
    "    new_markdown_cell(\"\"\"## 🔄 Traditional ML vs MLOps\n",
    "\n",
    "| Feature           | Traditional ML      | MLOps                     |\n",
    "|------------------|---------------------|----------------------------|\n",
    "| Focus            | Just building models| Full ML lifecycle          |\n",
    "| Reproducibility  | Manual              | Automated & versioned      |\n",
    "| Version Control  | Only code           | Code + data + models       |\n",
    "| Deployment       | Ad hoc              | Continuous (CI/CD/CT)      |\n",
    "| Monitoring       | Often missing       | Built-in (Prometheus etc.)|\n",
    "\"\"\"),\n",
    "    new_markdown_cell(\"\"\"## 🔁 ML Lifecycle Steps\n",
    "\n",
    "1. Data Collection  \n",
    "2. Data Preprocessing  \n",
    "3. Model Training  \n",
    "4. Evaluation  \n",
    "5. Deployment (Batch/API)  \n",
    "6. Monitoring (performance, drift)  \n",
    "7. Retraining\n",
    "\n",
    "MLOps automates and tracks each of these.\n",
    "\"\"\"),\n",
    "    new_markdown_cell(\"\"\"## 🧰 Tools Introduced\n",
    "\n",
    "- **Git & GitHub**: Code versioning  \n",
    "- **DVC**: Data & model versioning  \n",
    "- **MLflow**: Experiment tracking  \n",
    "- **Docker**: Environment packaging  \n",
    "- **Kubernetes**: Scaling deployments  \n",
    "- **Prometheus + Grafana**: Monitoring  \n",
    "- **CI/CD**: GitHub Actions, Jenkins\n",
    "\"\"\"),\n",
    "    new_markdown_cell(\"\"\"## 🚀 Why MLOps Matters\n",
    "\n",
    "- Keeps ML projects **organized and scalable**  \n",
    "- Helps prevent **model drift and deployment issues**  \n",
    "- Promotes **collaboration and automation**\n",
    "\n",
    "> “MLOps isn’t optional anymore — it’s the foundation of real-world ML.”\n",
    "\"\"\"),\n",
    "    new_markdown_cell(\"\"\"## ✅ Next Steps\n",
    "\n",
    "- Set up DVC  \n",
    "- Track dataset and model changes  \n",
    "- Start Day 2 notebook\n",
    "\"\"\"),\n",
    "    new_markdown_cell(\"\"\"## 💬 Personal Reflection\n",
    "\n",
    "Understanding MLOps as more than just deployment helped me realize the importance of system-level thinking in ML. I’m excited to go hands-on with DVC and experiment tracking tomorrow.\n",
    "\"\"\")\n",
    "])\n",
    "\n",
    "# Save the notebook\n",
    "detailed_nb_path = \"/mnt/data/MLOps_Day1_Intro_Detailed.ipynb\"\n",
    "with open(detailed_nb_path, 'w', encoding='utf-8') as f:\n",
    "    nbformat.write(detailed_nb, f)\n",
    "\n",
    "detailed_nb_path\n"
   ]
  },
  {
   "cell_type": "code",
   "execution_count": null,
   "id": "58a94883-2774-4d57-829d-eff62c498e9f",
   "metadata": {},
   "outputs": [],
   "source": []
  },
  {
   "cell_type": "markdown",
   "id": "67ed6a4c-955d-45a9-8145-ca4ce62a0358",
   "metadata": {},
   "source": [
    "# 📅 2025-06-05 – Day 1: Introduction to MLOps"
   ]
  },
  {
   "cell_type": "markdown",
   "id": "45c54412-9f77-46a9-b5f3-94b931311dfd",
   "metadata": {},
   "source": [
    "## 🧠 Focus Area:\n",
    "Understanding the fundamentals of MLOps (Machine Learning Operations), why it matters, and how it integrates into the ML lifecycle."
   ]
  },
  {
   "cell_type": "markdown",
   "id": "f5e461ce-9474-47da-a1b2-c15e281c63c6",
   "metadata": {},
   "source": [
    "## 📺 Resource:\n",
    "🎥 [YouTube: Day 1 – Introduction to MLOps](https://www.youtube.com/watch?v=eRyQDkCrZrk&list=PLkz_y24mlSJbtHxCveCT9NkgYdEhc42il)\n"
   ]
  },
  {
   "cell_type": "markdown",
   "id": "dd81275e-a3be-4e07-95e2-502fc76d84dc",
   "metadata": {},
   "source": [
    "## 📘 What is MLOps?\n",
    "\n",
    "MLOps = Machine Learning + DevOps  \n",
    "It streamlines the **entire lifecycle** of ML models: from development to deployment and monitoring in production.  \n",
    "\n",
    "🔑 Key Benefits:  \n",
    "- Scalability  \n",
    "- Reproducibility  \n",
    "- Continuous integration & deployment  \n",
    "- Collaboration between ML & engineering teams\n"
   ]
  },
  {
   "cell_type": "markdown",
   "id": "6888136c-4b0a-444c-9411-b9986f237da1",
   "metadata": {},
   "source": [
    "## 🔄 Traditional ML vs MLOps\n",
    "\n",
    "| Feature           | Traditional ML      | MLOps                     |\n",
    "|-------------------|---------------------|---------------------------|\n",
    "| Focus             | Just building models| Full ML lifecycle         |\n",
    "| Reproducibility   | Manual              | Automated & versioned     |\n",
    "| Version Control   | Only code           | Code + data + models      |\n",
    "| Deployment        | Ad hoc              | Continuous (CI/CD/CT)     |\n",
    "| Monitoring        | Often missing       | Built-in (Prometheus etc.)|\n"
   ]
  },
  {
   "cell_type": "markdown",
   "id": "c27e6ecb-5d68-438e-9694-872976c9eb8a",
   "metadata": {},
   "source": [
    "## 🔁 ML Lifecycle Steps\n",
    "\n",
    "1. Data Collection  \n",
    "2. Data Preprocessing  \n",
    "3. Model Training  \n",
    "4. Evaluation  \n",
    "5. Deployment (Batch/API)  \n",
    "6. Monitoring (performance, drift)  \n",
    "7. Retraining  \n",
    "\n",
    "**MLOps automates and tracks each of these.**"
   ]
  },
  {
   "cell_type": "markdown",
   "id": "a16a6848-c318-4d25-8eb9-ee89403b1173",
   "metadata": {},
   "source": [
    "## 🧰 Tools Introduced\n",
    "\n",
    "- **Git & GitHub**: Code versioning  \n",
    "- **DVC**: Data & model versioning  \n",
    "- **MLflow**: Experiment tracking  \n",
    "- **Docker**: Environment packaging  \n",
    "- **Kubernetes**: Scaling deployments  \n",
    "- **Prometheus + Grafana**: Monitoring  \n",
    "- **CI/CD**: GitHub Actions, Jenkins"
   ]
  },
  {
   "cell_type": "markdown",
   "id": "05091134-394e-4c58-93b3-4972ce6bcc81",
   "metadata": {},
   "source": [
    "## 🚀 Why MLOps Matters\n",
    "\n",
    "- Keeps ML projects **organized and scalable**  \n",
    "- Helps prevent **model drift and deployment issues**  \n",
    "- Promotes **collaboration and automation**\n",
    "\n",
    "> “MLOps isn’t optional anymore — it’s the foundation of real-world ML.”"
   ]
  },
  {
   "cell_type": "markdown",
   "id": "182092ce-8889-4260-8395-d8c6fc9f1a30",
   "metadata": {},
   "source": [
    "## 🧠 Reflection\n",
    "- I now understand how MLOps is different from traditional software DevOps.\n",
    "- I'm excited to explore tools like DVC and MLflow and integrate these things with my projects.\n"
   ]
  },
  {
   "cell_type": "markdown",
   "id": "7b869909-2043-43c2-aa01-7dad53d38e6e",
   "metadata": {},
   "source": [
    "## ✅ Next Steps\n",
    "- Learn the new concepts day by day and get the flow of how the industry is using MLOps\n",
    "\n"
   ]
  },
  {
   "cell_type": "code",
   "execution_count": null,
   "id": "53c91eaa-34b5-4722-ac7e-fe6ad657d46b",
   "metadata": {},
   "outputs": [],
   "source": []
  }
 ],
 "metadata": {
  "kernelspec": {
   "display_name": "Python 3 (ipykernel)",
   "language": "python",
   "name": "python3"
  },
  "language_info": {
   "codemirror_mode": {
    "name": "ipython",
    "version": 3
   },
   "file_extension": ".py",
   "mimetype": "text/x-python",
   "name": "python",
   "nbconvert_exporter": "python",
   "pygments_lexer": "ipython3",
   "version": "3.12.7"
  }
 },
 "nbformat": 4,
 "nbformat_minor": 5
}
